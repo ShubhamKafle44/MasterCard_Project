{
 "cells": [
  {
   "cell_type": "markdown",
   "metadata": {},
   "source": [
    "### INSTALL REQUIRED LIBRARIES AND PACKAGES"
   ]
  },
  {
   "cell_type": "code",
   "execution_count": 36,
   "metadata": {},
   "outputs": [],
   "source": [
    "\n",
    "import pandas as pd\n",
    "import glob\n",
    "import matplotlib.pyplot as plt\n",
    "import seaborn as sns\n",
    "import numpy as np\n",
    "import pandas as pd\n"
   ]
  },
  {
   "cell_type": "markdown",
   "metadata": {},
   "source": [
    "### EXTRACT ALL THE NECESSARY DATA"
   ]
  },
  {
   "cell_type": "markdown",
   "metadata": {},
   "source": [
    "#### EXTRACTING HIGHEST_INCLUSIVE_GROWTH RAW DATA"
   ]
  },
  {
   "cell_type": "code",
   "execution_count": 37,
   "metadata": {},
   "outputs": [],
   "source": [
    "\n",
    "#Import Highest IGS Score Files\n",
    "highest_excel_files = glob.glob('DATA/RAW/HIGHEST_GROWTH_RATE/*.xlsx')  # Update the path as needed\n",
    "\n",
    "# Step 2: Initialize a list to store DataFrames\n",
    "highest_dataframes = []\n",
    "\n",
    "# Step 3: Loop through each Excel file\n",
    "for i, file in enumerate(highest_excel_files):\n",
    "    # Read the second sheet (index 1) and use the second row (index 1) as headers\n",
    "    highest_df = pd.read_excel(file, sheet_name=1, header=1)  # Use the second row as header\n",
    "\n",
    "    # If it's the first file, we will include the headers from it\n",
    "    if i == 0:\n",
    "        # Store headers from the first file for later use\n",
    "        headers = highest_df.columns.tolist()\n",
    "    else:\n",
    "        # Filter columns to keep only those that match the first file's headers\n",
    "        highest_df = highest_df[headers]  # Retain only columns that are in the headers list \n"
   ]
  },
  {
   "cell_type": "markdown",
   "metadata": {},
   "source": [
    "#### EXTRACTING LOWEST_INCLUSIVE_GROWTH RAW DATA"
   ]
  },
  {
   "cell_type": "code",
   "execution_count": 38,
   "metadata": {},
   "outputs": [],
   "source": [
    "#Import LOWEST IGS Score Files\n",
    "lowest_excel_files = glob.glob('DATA/RAW/LOWEST_GROWTH_RATE/*.xlsx')  # Update the path as needed\n",
    "\n",
    "# Step 2: Initialize a list to store DataFrames\n",
    "lowest_dataframes = []\n",
    "\n",
    "# Step 3: Loop through each Excel file\n",
    "for i, file in enumerate(lowest_excel_files):\n",
    "    # Read the second sheet (index 1) and use the second row (index 1) as headers\n",
    "    lowest_df = pd.read_excel(file, sheet_name=1, header=1)  # Use the second row as header\n",
    "\n",
    "    # If it's the first file, we will include the headers from it\n",
    "    if i == 0:\n",
    "        # Store headers from the first file for later use\n",
    "        headers = lowest_df.columns.tolist()\n",
    "    else:\n",
    "        # Filter columns to keep only those that match the first file's headers\n",
    "        lowest_df = lowest_df[headers]  # Retain only columns that are in the headers list \n"
   ]
  },
  {
   "cell_type": "markdown",
   "metadata": {},
   "source": [
    "#### Append the DataFrames to the list"
   ]
  },
  {
   "cell_type": "code",
   "execution_count": 39,
   "metadata": {},
   "outputs": [],
   "source": [
    "\n",
    "highest_dataframes.append(highest_df) #Highest_inclusive_growth rate\n",
    "\n",
    "lowest_dataframes.append(lowest_df) #lowest_inclusive_growth rate"
   ]
  },
  {
   "cell_type": "code",
   "execution_count": 40,
   "metadata": {},
   "outputs": [],
   "source": [
    "\n",
    "# Step 4: Concatenate all DataFrames into a single DataFrame\n",
    "highest_combined_data = pd.concat(highest_dataframes, ignore_index=True)\n",
    "lowest_combined_data = pd.concat(lowest_dataframes, ignore_index=True)"
   ]
  },
  {
   "cell_type": "code",
   "execution_count": 46,
   "metadata": {},
   "outputs": [
    {
     "name": "stdout",
     "output_type": "stream",
     "text": [
      "   Is an Opportunity Zone  Census Tract FIPS code             County  \\\n",
      "0                     NaN            4.610301e+10  Pennington County   \n",
      "1                     NaN            4.610301e+10  Pennington County   \n",
      "2                     NaN            4.610301e+10  Pennington County   \n",
      "3                     NaN            4.610301e+10  Pennington County   \n",
      "4                     NaN            4.610301e+10  Pennington County   \n",
      "5                     NaN            4.610301e+10  Pennington County   \n",
      "6                     NaN            4.610301e+10  Pennington County   \n",
      "\n",
      "          State    Year  Inclusive Growth Score  Growth  Inclusion  Place  \\\n",
      "0  South Dakota  2017.0                    68.0    71.0       66.0   70.0   \n",
      "1  South Dakota  2018.0                    64.0    63.0       65.0   70.0   \n",
      "2  South Dakota  2019.0                    66.0    68.0       65.0   69.0   \n",
      "3  South Dakota  2020.0                    65.0    61.0       69.0   70.0   \n",
      "4  South Dakota  2021.0                    54.0    48.0       61.0   49.0   \n",
      "5  South Dakota  2022.0                    55.0    48.0       62.0   44.0   \n",
      "6  South Dakota  2023.0                    51.0    43.0       59.0   44.0   \n",
      "\n",
      "   Place Growth  ...  Acres of Park Land Tract, %  Affordable Housing Score  \\\n",
      "0          80.0  ...                         24.8                      48.0   \n",
      "1          82.0  ...                         24.8                      48.0   \n",
      "2          80.0  ...                         24.8                      44.0   \n",
      "3          79.0  ...                         24.8                      50.0   \n",
      "4          38.0  ...                         24.8                      63.0   \n",
      "5          34.0  ...                         24.8                      63.0   \n",
      "6          34.0  ...                         24.8                      29.0   \n",
      "\n",
      "   Affordable Housing Base, %  Affordable Housing Tract, %  \\\n",
      "0                        79.2                         78.9   \n",
      "1                        79.7                         79.4   \n",
      "2                        80.0                         79.1   \n",
      "3                        80.3                         80.3   \n",
      "4                        80.9                         83.2   \n",
      "5                        80.4                         82.8   \n",
      "6                        79.7                         75.2   \n",
      "\n",
      "   Internet Access Score  Internet Access Base, %  Internet Access Tract, %  \\\n",
      "0                   52.0                     76.5                      77.1   \n",
      "1                   52.0                     76.5                      77.1   \n",
      "2                   53.0                     77.4                      78.3   \n",
      "3                   55.0                     78.6                      79.8   \n",
      "4                   37.0                     83.7                      80.5   \n",
      "5                   27.0                     85.5                      79.4   \n",
      "6                   50.0                     86.7                      86.7   \n",
      "\n",
      "   Travel Time to Work Score  Travel Time to Work Base, %  \\\n",
      "0                       44.0                         78.6   \n",
      "1                       44.0                         78.4   \n",
      "2                       44.0                         78.2   \n",
      "3                       45.0                         77.9   \n",
      "4                       50.0                         77.3   \n",
      "5                       36.0                         77.2   \n",
      "6                       44.0                         77.0   \n",
      "\n",
      "   Travel Time to Work Tract, %  \n",
      "0                          76.5  \n",
      "1                          76.0  \n",
      "2                          75.7  \n",
      "3                          76.2  \n",
      "4                          77.3  \n",
      "5                          71.5  \n",
      "6                          74.7  \n",
      "\n",
      "[7 rows x 29 columns]\n"
     ]
    }
   ],
   "source": [
    "print(lowest_combined_data)"
   ]
  },
  {
   "cell_type": "markdown",
   "metadata": {},
   "source": [
    "### DATA CLEANING"
   ]
  },
  {
   "cell_type": "code",
   "execution_count": 42,
   "metadata": {},
   "outputs": [],
   "source": [
    "\n",
    "# Step 5: Remove rows with NaN values in the first column\n",
    "highest_combined_data = highest_combined_data.dropna(subset=[highest_combined_data.columns[0]])\n",
    "\n",
    "# Step 6: Set the first column as the primary key (index) and keep the existing index\n",
    "highest_combined_data.set_index(highest_combined_data.columns[0], inplace=True)\n",
    "\n",
    "# Step 7: Create a new index that continues from the last index\n",
    "highest_combined_data.index = range(len(highest_combined_data))\n",
    "\n"
   ]
  },
  {
   "cell_type": "code",
   "execution_count": 43,
   "metadata": {},
   "outputs": [],
   "source": [
    "\n",
    "# Step 5: Remove rows with NaN values in the first column\n",
    "lowest_combined_data = lowest_combined_data.dropna(subset=[lowest_combined_data.columns[0]])\n",
    "\n",
    "# Step 6: Set the first column as the primary key (index) and keep the existing index\n",
    "lowest_combined_data.set_index(lowest_combined_data.columns[0], inplace=True)\n",
    "\n",
    "# Step 7: Create a new index that continues from the last index\n",
    "lowest_combined_data.index = range(len(lowest_combined_data))\n",
    "\n"
   ]
  },
  {
   "cell_type": "code",
   "execution_count": 44,
   "metadata": {},
   "outputs": [
    {
     "name": "stdout",
     "output_type": "stream",
     "text": [
      "   Is an Opportunity Zone  Census Tract FIPS code            County     State  \\\n",
      "0                     NaN            2.918922e+10  St. Louis County  Missouri   \n",
      "1                     NaN            2.918922e+10  St. Louis County  Missouri   \n",
      "2                     NaN            2.918922e+10  St. Louis County  Missouri   \n",
      "3                     NaN            2.918922e+10  St. Louis County  Missouri   \n",
      "4                     NaN            2.918922e+10  St. Louis County  Missouri   \n",
      "5                     NaN            2.918922e+10  St. Louis County  Missouri   \n",
      "6                     NaN            2.918922e+10  St. Louis County  Missouri   \n",
      "\n",
      "     Year  Inclusive Growth Score  Growth  Inclusion  Place  Place Growth  \\\n",
      "0  2017.0                    75.0    65.0       85.0   78.0          73.0   \n",
      "1  2018.0                    76.0    67.0       85.0   82.0          80.0   \n",
      "2  2019.0                    74.0    62.0       85.0   77.0          70.0   \n",
      "3  2020.0                    72.0    59.0       85.0   74.0          64.0   \n",
      "4  2021.0                    74.0    66.0       81.0   71.0          58.0   \n",
      "5  2022.0                    70.0    55.0       84.0   72.0          57.0   \n",
      "6  2023.0                    70.0    58.0       83.0   71.0          55.0   \n",
      "\n",
      "   ...  Female Above Poverty Tract, %  Gini Coefficient Score  \\\n",
      "0  ...                           97.5                    96.0   \n",
      "1  ...                           97.6                    96.0   \n",
      "2  ...                           98.3                    95.0   \n",
      "3  ...                           98.7                    94.0   \n",
      "4  ...                           99.4                    93.0   \n",
      "5  ...                           99.2                    96.0   \n",
      "6  ...                           99.0                    94.0   \n",
      "\n",
      "   Gini Coefficient Base  Gini Coefficient Tract  \\\n",
      "0                   41.3                    32.0   \n",
      "1                   41.5                    32.5   \n",
      "2                   41.6                    33.2   \n",
      "3                   41.6                    33.5   \n",
      "4                   41.3                    33.2   \n",
      "5                   41.3                    31.6   \n",
      "6                   41.5                    33.1   \n",
      "\n",
      "   Early Education Enrollment Score  Early Education Enrollment Base, %  \\\n",
      "0                              99.0                                25.5   \n",
      "1                              97.0                                25.5   \n",
      "2                              94.0                                25.3   \n",
      "3                              81.0                                25.4   \n",
      "4                              84.0                                27.5   \n",
      "5                              71.0                                27.4   \n",
      "6                              76.0                                27.8   \n",
      "\n",
      "   Early Education Enrollment Tract, %  Health Insurance Coverage Score  \\\n",
      "0                                 74.8                             96.0   \n",
      "1                                 61.3                             97.0   \n",
      "2                                 52.6                             96.0   \n",
      "3                                 40.2                             94.0   \n",
      "4                                 46.9                             86.0   \n",
      "5                                 37.9                             94.0   \n",
      "6                                 41.8                             93.0   \n",
      "\n",
      "   Health Insurance Coverage Base, %  Health Insurance Coverage Tract, %  \n",
      "0                               91.2                                98.5  \n",
      "1                               92.3                                98.7  \n",
      "2                               93.3                                98.9  \n",
      "3                               94.2                                98.8  \n",
      "4                               95.0                                98.4  \n",
      "5                               94.9                                99.1  \n",
      "6                               95.0                                99.1  \n",
      "\n",
      "[7 rows x 71 columns]\n"
     ]
    }
   ],
   "source": [
    "# Step 8: Write the combined DataFrame to a new Excel file\n",
    "highest_combined_data.to_excel('DATA/PROCESSED/HIGHEST_INCLUSIVE_GROWTH.xlsx')\n",
    "lowest_combined_data.to_excel('DATA/PROCESSED/LOWEST_INCLUSIVE_GROWTH.xlsx')\n",
    "\n",
    "# Print the 'Growth' column to verify\n",
    "print(highest_combined_data)\n"
   ]
  },
  {
   "cell_type": "code",
   "execution_count": 47,
   "metadata": {},
   "outputs": [
    {
     "name": "stdout",
     "output_type": "stream",
     "text": [
      "{'Is an Opportunity Zone': nan, 'Census Tract FIPS code': 29189221421.0, 'Year': 2020.0, 'Inclusive Growth Score': 73.0, 'Growth': 61.71, 'Inclusion': 84.0, 'Place': 75.0, 'Place Growth': 65.29, 'Place Inclusion': 85.0, 'Net Occupancy Score': 65.86, 'Net Occupancy Base, %': 0.96, 'Net Occupancy Tract, %': 1.59, 'Residential Real Estate Value Score': 64.57, 'Residential Real Estate Value Base, %': 21.83, 'Residential Real Estate Value Tract, %': 22.26, 'Acres of Park Land Score': 97.0, 'Acres of Park Land Base, %': 4.1, 'Acres of Park Land Tract, %': 31.6, 'Affordable Housing Score': 98.14, 'Affordable Housing Base, %': 72.41, 'Affordable Housing Tract, %': 88.67, 'Internet Access Score': 93.57, 'Internet Access Base, %': 86.57, 'Internet Access Tract, %': 97.26, 'Travel Time to Work Score': 52.0, 'Travel Time to Work Base, %': 56.5, 'Travel Time to Work Tract, %': 57.34, 'Economy': 65.71, 'Economy Growth': 57.14, 'Economy Inclusion': 74.43, 'New Businesses Score': 64.0, 'New Businesses Base, %': 6.34, 'New Businesses Tract, %': 13.93, 'Spend Growth Score': 48.71, 'Spend Growth Base, %': nan, 'Spend Growth Tract, %': nan, 'Small Business Loans Score': 58.71, 'Small Business Loans Base, %': 5.79, 'Small Business Loans Tract, %': 5.37, 'Minority/Women Owned Businesses Score': 58.86, 'Minority/Women Owned Businesses Base, %': 4.24, 'Minority/Women Owned Businesses Tract, %': 4.96, 'Labor Market Engagement Index Score': 89.14, 'Labor Market Engagement Index Base': 59.86, 'Labor Market Engagement Index Tract': 92.71, 'Commercial Diversity Score': 75.0, 'Commercial Diversity Base, %': 20.5, 'Commercial Diversity Tract, %': 26.01, 'Community': 78.0, 'Community Growth': 62.86, 'Community Inclusion': 93.0, 'Personal Income Score': 61.71, 'Personal Income Base, %': 10.77, 'Personal Income Tract, %': 11.69, 'Spending per Capita Score': 64.29, 'Spending per Capita Base, %': nan, 'Spending per Capita Tract, %': nan, 'Female Above Poverty Score': 98.0, 'Female Above Poverty Base, %': 87.69, 'Female Above Poverty Tract, %': 98.53, 'Gini Coefficient Score': 94.86, 'Gini Coefficient Base': 41.44, 'Gini Coefficient Tract': 32.73, 'Early Education Enrollment Score': 86.0, 'Early Education Enrollment Base, %': 26.34, 'Early Education Enrollment Tract, %': 50.79, 'Health Insurance Coverage Score': 93.71, 'Health Insurance Coverage Base, %': 93.7, 'Health Insurance Coverage Tract, %': 98.79}\n",
      "{'Is an Opportunity Zone': nan, 'Census Tract FIPS code': 46103011600.0, 'Year': 2020.0, 'Inclusive Growth Score': 60.43, 'Growth': 57.43, 'Inclusion': 63.86, 'Place': 59.43, 'Place Growth': 61.0, 'Place Inclusion': 57.71, 'Net Occupancy Score': 59.71, 'Net Occupancy Base, %': -0.24, 'Net Occupancy Tract, %': -11.37, 'Residential Real Estate Value Score': 61.71, 'Residential Real Estate Value Base, %': 13.33, 'Residential Real Estate Value Tract, %': 1.51, 'Acres of Park Land Score': 92.0, 'Acres of Park Land Base, %': 2.7, 'Acres of Park Land Tract, %': 24.8, 'Affordable Housing Score': 49.29, 'Affordable Housing Base, %': 80.03, 'Affordable Housing Tract, %': 79.84, 'Internet Access Score': 46.57, 'Internet Access Base, %': 80.7, 'Internet Access Tract, %': 79.84, 'Travel Time to Work Score': 43.86, 'Travel Time to Work Base, %': 77.8, 'Travel Time to Work Tract, %': 75.41}\n"
     ]
    }
   ],
   "source": [
    "highest_averages = highest_combined_data.mean(numeric_only=True)\n",
    "lowest_averages = lowest_combined_data.mean(numeric_only=True)\n",
    "\n",
    "\n",
    "highest_average_hashmap = {key: round(value, 2) for key, value in highest_averages.items()}\n",
    "lowest_average_hashmap = {key: round(value, 2) for key, value in lowest_averages.items()}\n",
    "print(highest_average_hashmap)\n",
    "print(lowest_average_hashmap)\n",
    "\n"
   ]
  },
  {
   "cell_type": "markdown",
   "metadata": {},
   "source": [
    "## DATA VISUALIZATION\n"
   ]
  },
  {
   "cell_type": "code",
   "execution_count": 49,
   "metadata": {},
   "outputs": [
    {
     "data": {
      "image/png": "[encoded data removed]",
      "text/plain": [
       "<Figure size 800x500 with 1 Axes>"
      ]
     },
     "metadata": {},
     "output_type": "display_data"
    }
   ],
   "source": [
    "# Extracting the scores for plotting\n",
    "x_labels = ['Highest iGS', 'Lowest iGS']\n",
    "net_occupancy = [\n",
    "    highest_average_hashmap['Place Inclusion'],\n",
    "    lowest_average_hashmap['Place Inclusion']\n",
    "]\n",
    "\n",
    "# Creating the plot\n",
    "plt.figure(figsize=(8, 5))\n",
    "plt.bar(x_labels, net_occupancy, color=['blue', 'red'])\n",
    "plt.title('Comparison of Highest and Lowest iGS Net Occupancy')\n",
    "plt.xlabel('Inclusive Growth Score (iGS)')\n",
    "plt.ylabel('Net Occupancy Score')\n",
    "plt.ylim(0, 100)  # Adjust this according to the range of your data\n",
    "plt.grid(axis='y', linestyle='--', alpha=0.7)\n",
    "\n",
    "# Show the plot\n",
    "plt.show()"
   ]
  },
  {
   "cell_type": "code",
   "execution_count": null,
   "metadata": {},
   "outputs": [],
   "source": []
  },
  {
   "cell_type": "code",
   "execution_count": null,
   "metadata": {},
   "outputs": [],
   "source": []
  },
  {
   "cell_type": "code",
   "execution_count": null,
   "metadata": {},
   "outputs": [],
   "source": []
  },
  {
   "cell_type": "code",
   "execution_count": null,
   "metadata": {},
   "outputs": [],
   "source": []
  },
  {
   "cell_type": "code",
   "execution_count": null,
   "metadata": {},
   "outputs": [],
   "source": []
  }
 ],
 "metadata": {
  "kernelspec": {
   "display_name": "Python 3",
   "language": "python",
   "name": "python3"
  },
  "language_info": {
   "codemirror_mode": {
    "name": "ipython",
    "version": 3
   },
   "file_extension": ".py",
   "mimetype": "text/x-python",
   "name": "python",
   "nbconvert_exporter": "python",
   "pygments_lexer": "ipython3",
   "version": "3.12.7"
  }
 },
 "nbformat": 4,
 "nbformat_minor": 2
}
